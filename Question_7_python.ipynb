{
 "cells": [
  {
   "cell_type": "markdown",
   "id": "5f65d1c0",
   "metadata": {},
   "source": [
    "Insights to be drawn -\n",
    "1. Get all the Earth meteorites that fell before the year 2000\n",
    "2. Get all the earth meteorites co-ordinates who fell before the year 1970\n",
    "3. Assuming that the mass of the earth meteorites was in kg, get all those whose mass was more than 10000kg\n"
   ]
  },
  {
   "cell_type": "code",
   "execution_count": 1,
   "id": "6bc2f8b8",
   "metadata": {},
   "outputs": [],
   "source": [
    "import pandas as pd\n",
    "import matplotlib.pyplot as plt\n",
    "import seaborn as sns\n",
    "import requests\n",
    "import numpy as np\n",
    "import json\n",
    "from datetime import datetime\n",
    "\n",
    "response = json.loads(requests.get(\"https://data.nasa.gov/resource/y77d-th95.json\").text)"
   ]
  },
  {
   "cell_type": "code",
   "execution_count": 2,
   "id": "8b733c3c",
   "metadata": {},
   "outputs": [],
   "source": [
    "df = pd.DataFrame(pd.json_normalize(response))"
   ]
  },
  {
   "cell_type": "code",
   "execution_count": 3,
   "id": "4dae9028",
   "metadata": {},
   "outputs": [
    {
     "name": "stdout",
     "output_type": "stream",
     "text": [
      "<class 'pandas.core.frame.DataFrame'>\n",
      "RangeIndex: 1000 entries, 0 to 999\n",
      "Data columns (total 13 columns):\n",
      " #   Column                       Non-Null Count  Dtype \n",
      "---  ------                       --------------  ----- \n",
      " 0   name                         1000 non-null   object\n",
      " 1   id                           1000 non-null   object\n",
      " 2   nametype                     1000 non-null   object\n",
      " 3   recclass                     1000 non-null   object\n",
      " 4   mass                         972 non-null    object\n",
      " 5   fall                         1000 non-null   object\n",
      " 6   year                         999 non-null    object\n",
      " 7   reclat                       988 non-null    object\n",
      " 8   reclong                      988 non-null    object\n",
      " 9   geolocation.type             988 non-null    object\n",
      " 10  geolocation.coordinates      988 non-null    object\n",
      " 11  :@computed_region_cbhk_fwbd  133 non-null    object\n",
      " 12  :@computed_region_nnqa_25f4  134 non-null    object\n",
      "dtypes: object(13)\n",
      "memory usage: 101.7+ KB\n"
     ]
    }
   ],
   "source": [
    "df.info()"
   ]
  },
  {
   "cell_type": "code",
   "execution_count": 4,
   "id": "0ee0e231",
   "metadata": {},
   "outputs": [],
   "source": [
    "# Renaming \"geolocation.coordinates\" to \"point coordinates\"\n",
    "\n",
    "df.rename(columns={\"geolocation.coordinates\": \"point coordinates\"}, inplace=True)"
   ]
  },
  {
   "cell_type": "code",
   "execution_count": 5,
   "id": "7ad53c06",
   "metadata": {},
   "outputs": [
    {
     "data": {
      "text/plain": [
       "0      1880-01-01T00:00:00.000\n",
       "1      1951-01-01T00:00:00.000\n",
       "2      1952-01-01T00:00:00.000\n",
       "3      1976-01-01T00:00:00.000\n",
       "4      1902-01-01T00:00:00.000\n",
       "                ...           \n",
       "995    1934-01-01T00:00:00.000\n",
       "996    2011-01-01T00:00:00.000\n",
       "997    1869-01-01T00:00:00.000\n",
       "998    1922-01-01T00:00:00.000\n",
       "999    1905-01-01T00:00:00.000\n",
       "Name: year, Length: 1000, dtype: object"
      ]
     },
     "execution_count": 5,
     "metadata": {},
     "output_type": "execute_result"
    }
   ],
   "source": [
    "df['year']"
   ]
  },
  {
   "cell_type": "code",
   "execution_count": 6,
   "id": "22bf1763",
   "metadata": {},
   "outputs": [],
   "source": [
    "# Typecasting 'year' to datetime\n",
    "\n",
    "df['year'] = pd.to_datetime(df['year'], format='%Y-%m-%dT%H:%M:%S.%f', errors='coerce')"
   ]
  },
  {
   "cell_type": "markdown",
   "id": "16b7200d",
   "metadata": {},
   "source": [
    "### Get all the Earth meteorites that fell before the year 2000"
   ]
  },
  {
   "cell_type": "code",
   "execution_count": 8,
   "id": "1e1d737c",
   "metadata": {},
   "outputs": [
    {
     "data": {
      "text/plain": [
       "array(['Fell', 'Found'], dtype=object)"
      ]
     },
     "execution_count": 8,
     "metadata": {},
     "output_type": "execute_result"
    }
   ],
   "source": [
    "df['fall'].unique()"
   ]
  },
  {
   "cell_type": "code",
   "execution_count": 36,
   "id": "4f40a436",
   "metadata": {},
   "outputs": [
    {
     "data": {
      "text/html": [
       "<div>\n",
       "<style scoped>\n",
       "    .dataframe tbody tr th:only-of-type {\n",
       "        vertical-align: middle;\n",
       "    }\n",
       "\n",
       "    .dataframe tbody tr th {\n",
       "        vertical-align: top;\n",
       "    }\n",
       "\n",
       "    .dataframe thead th {\n",
       "        text-align: right;\n",
       "    }\n",
       "</style>\n",
       "<table border=\"1\" class=\"dataframe\">\n",
       "  <thead>\n",
       "    <tr style=\"text-align: right;\">\n",
       "      <th></th>\n",
       "      <th>name</th>\n",
       "      <th>fall</th>\n",
       "      <th>year</th>\n",
       "    </tr>\n",
       "  </thead>\n",
       "  <tbody>\n",
       "    <tr>\n",
       "      <th>0</th>\n",
       "      <td>Aachen</td>\n",
       "      <td>Fell</td>\n",
       "      <td>1880-01-01</td>\n",
       "    </tr>\n",
       "    <tr>\n",
       "      <th>1</th>\n",
       "      <td>Aarhus</td>\n",
       "      <td>Fell</td>\n",
       "      <td>1951-01-01</td>\n",
       "    </tr>\n",
       "    <tr>\n",
       "      <th>2</th>\n",
       "      <td>Abee</td>\n",
       "      <td>Fell</td>\n",
       "      <td>1952-01-01</td>\n",
       "    </tr>\n",
       "    <tr>\n",
       "      <th>3</th>\n",
       "      <td>Acapulco</td>\n",
       "      <td>Fell</td>\n",
       "      <td>1976-01-01</td>\n",
       "    </tr>\n",
       "    <tr>\n",
       "      <th>4</th>\n",
       "      <td>Achiras</td>\n",
       "      <td>Fell</td>\n",
       "      <td>1902-01-01</td>\n",
       "    </tr>\n",
       "    <tr>\n",
       "      <th>...</th>\n",
       "      <td>...</td>\n",
       "      <td>...</td>\n",
       "      <td>...</td>\n",
       "    </tr>\n",
       "    <tr>\n",
       "      <th>907</th>\n",
       "      <td>Timochin</td>\n",
       "      <td>Fell</td>\n",
       "      <td>1807-01-01</td>\n",
       "    </tr>\n",
       "    <tr>\n",
       "      <th>908</th>\n",
       "      <td>Tirupati</td>\n",
       "      <td>Fell</td>\n",
       "      <td>1934-01-01</td>\n",
       "    </tr>\n",
       "    <tr>\n",
       "      <th>909</th>\n",
       "      <td>Tjabe</td>\n",
       "      <td>Fell</td>\n",
       "      <td>1869-01-01</td>\n",
       "    </tr>\n",
       "    <tr>\n",
       "      <th>910</th>\n",
       "      <td>Tjerebon</td>\n",
       "      <td>Fell</td>\n",
       "      <td>1922-01-01</td>\n",
       "    </tr>\n",
       "    <tr>\n",
       "      <th>911</th>\n",
       "      <td>Tomakovka</td>\n",
       "      <td>Fell</td>\n",
       "      <td>1905-01-01</td>\n",
       "    </tr>\n",
       "  </tbody>\n",
       "</table>\n",
       "<p>912 rows × 3 columns</p>\n",
       "</div>"
      ],
      "text/plain": [
       "          name  fall       year\n",
       "0       Aachen  Fell 1880-01-01\n",
       "1       Aarhus  Fell 1951-01-01\n",
       "2         Abee  Fell 1952-01-01\n",
       "3     Acapulco  Fell 1976-01-01\n",
       "4      Achiras  Fell 1902-01-01\n",
       "..         ...   ...        ...\n",
       "907   Timochin  Fell 1807-01-01\n",
       "908   Tirupati  Fell 1934-01-01\n",
       "909      Tjabe  Fell 1869-01-01\n",
       "910   Tjerebon  Fell 1922-01-01\n",
       "911  Tomakovka  Fell 1905-01-01\n",
       "\n",
       "[912 rows x 3 columns]"
      ]
     },
     "execution_count": 36,
     "metadata": {},
     "output_type": "execute_result"
    }
   ],
   "source": [
    "df[(df['year'] < pd.Timestamp(2000,1,1)) & (df['fall']=='Fell')].reset_index(drop=True) [['name', 'fall', 'year']]"
   ]
  },
  {
   "cell_type": "markdown",
   "id": "0b88d5a1",
   "metadata": {},
   "source": [
    "### Get all the earth meteorites co-ordinates who fell before the year 1970"
   ]
  },
  {
   "cell_type": "code",
   "execution_count": 35,
   "id": "55f50897",
   "metadata": {},
   "outputs": [
    {
     "data": {
      "text/html": [
       "<div>\n",
       "<style scoped>\n",
       "    .dataframe tbody tr th:only-of-type {\n",
       "        vertical-align: middle;\n",
       "    }\n",
       "\n",
       "    .dataframe tbody tr th {\n",
       "        vertical-align: top;\n",
       "    }\n",
       "\n",
       "    .dataframe thead th {\n",
       "        text-align: right;\n",
       "    }\n",
       "</style>\n",
       "<table border=\"1\" class=\"dataframe\">\n",
       "  <thead>\n",
       "    <tr style=\"text-align: right;\">\n",
       "      <th></th>\n",
       "      <th>point coordinates</th>\n",
       "      <th>fall</th>\n",
       "      <th>year</th>\n",
       "    </tr>\n",
       "  </thead>\n",
       "  <tbody>\n",
       "    <tr>\n",
       "      <th>0</th>\n",
       "      <td>[6.08333, 50.775]</td>\n",
       "      <td>Fell</td>\n",
       "      <td>1880-01-01</td>\n",
       "    </tr>\n",
       "    <tr>\n",
       "      <th>1</th>\n",
       "      <td>[10.23333, 56.18333]</td>\n",
       "      <td>Fell</td>\n",
       "      <td>1951-01-01</td>\n",
       "    </tr>\n",
       "    <tr>\n",
       "      <th>2</th>\n",
       "      <td>[-113, 54.21667]</td>\n",
       "      <td>Fell</td>\n",
       "      <td>1952-01-01</td>\n",
       "    </tr>\n",
       "    <tr>\n",
       "      <th>3</th>\n",
       "      <td>[-64.95, -33.16667]</td>\n",
       "      <td>Fell</td>\n",
       "      <td>1902-01-01</td>\n",
       "    </tr>\n",
       "    <tr>\n",
       "      <th>4</th>\n",
       "      <td>[71.8, 32.1]</td>\n",
       "      <td>Fell</td>\n",
       "      <td>1919-01-01</td>\n",
       "    </tr>\n",
       "    <tr>\n",
       "      <th>...</th>\n",
       "      <td>...</td>\n",
       "      <td>...</td>\n",
       "      <td>...</td>\n",
       "    </tr>\n",
       "    <tr>\n",
       "      <th>758</th>\n",
       "      <td>[35.2, 54.5]</td>\n",
       "      <td>Fell</td>\n",
       "      <td>1807-01-01</td>\n",
       "    </tr>\n",
       "    <tr>\n",
       "      <th>759</th>\n",
       "      <td>[79.41667, 13.63333]</td>\n",
       "      <td>Fell</td>\n",
       "      <td>1934-01-01</td>\n",
       "    </tr>\n",
       "    <tr>\n",
       "      <th>760</th>\n",
       "      <td>[111.53333, -7.08333]</td>\n",
       "      <td>Fell</td>\n",
       "      <td>1869-01-01</td>\n",
       "    </tr>\n",
       "    <tr>\n",
       "      <th>761</th>\n",
       "      <td>[106.58333, -6.66667]</td>\n",
       "      <td>Fell</td>\n",
       "      <td>1922-01-01</td>\n",
       "    </tr>\n",
       "    <tr>\n",
       "      <th>762</th>\n",
       "      <td>[34.76667, 47.85]</td>\n",
       "      <td>Fell</td>\n",
       "      <td>1905-01-01</td>\n",
       "    </tr>\n",
       "  </tbody>\n",
       "</table>\n",
       "<p>763 rows × 3 columns</p>\n",
       "</div>"
      ],
      "text/plain": [
       "         point coordinates  fall       year\n",
       "0        [6.08333, 50.775]  Fell 1880-01-01\n",
       "1     [10.23333, 56.18333]  Fell 1951-01-01\n",
       "2         [-113, 54.21667]  Fell 1952-01-01\n",
       "3      [-64.95, -33.16667]  Fell 1902-01-01\n",
       "4             [71.8, 32.1]  Fell 1919-01-01\n",
       "..                     ...   ...        ...\n",
       "758           [35.2, 54.5]  Fell 1807-01-01\n",
       "759   [79.41667, 13.63333]  Fell 1934-01-01\n",
       "760  [111.53333, -7.08333]  Fell 1869-01-01\n",
       "761  [106.58333, -6.66667]  Fell 1922-01-01\n",
       "762      [34.76667, 47.85]  Fell 1905-01-01\n",
       "\n",
       "[763 rows x 3 columns]"
      ]
     },
     "execution_count": 35,
     "metadata": {},
     "output_type": "execute_result"
    }
   ],
   "source": [
    "df[(df['year'] < pd.Timestamp(1970,1,1)) & (df['fall']=='Fell')].reset_index(drop=True) [['point coordinates', 'fall', 'year']]"
   ]
  },
  {
   "cell_type": "markdown",
   "id": "4f4f2a5a",
   "metadata": {},
   "source": [
    "### Assuming that the mass of the earth meteorites was in kg, get all those whose mass was more than 10000kg"
   ]
  },
  {
   "cell_type": "code",
   "execution_count": 39,
   "id": "7bef3741",
   "metadata": {},
   "outputs": [
    {
     "data": {
      "text/plain": [
       "28"
      ]
     },
     "execution_count": 39,
     "metadata": {},
     "output_type": "execute_result"
    }
   ],
   "source": [
    "df['mass'].isna().sum()"
   ]
  },
  {
   "cell_type": "code",
   "execution_count": 43,
   "id": "764bd592",
   "metadata": {},
   "outputs": [],
   "source": [
    "# Typecasting mass to float\n",
    "df['mass'] = df['mass'].fillna(0).astype(np.float64)"
   ]
  },
  {
   "cell_type": "code",
   "execution_count": 49,
   "id": "81bbc901",
   "metadata": {},
   "outputs": [
    {
     "data": {
      "text/html": [
       "<div>\n",
       "<style scoped>\n",
       "    .dataframe tbody tr th:only-of-type {\n",
       "        vertical-align: middle;\n",
       "    }\n",
       "\n",
       "    .dataframe tbody tr th {\n",
       "        vertical-align: top;\n",
       "    }\n",
       "\n",
       "    .dataframe thead th {\n",
       "        text-align: right;\n",
       "    }\n",
       "</style>\n",
       "<table border=\"1\" class=\"dataframe\">\n",
       "  <thead>\n",
       "    <tr style=\"text-align: right;\">\n",
       "      <th></th>\n",
       "      <th>name</th>\n",
       "      <th>mass</th>\n",
       "    </tr>\n",
       "  </thead>\n",
       "  <tbody>\n",
       "    <tr>\n",
       "      <th>0</th>\n",
       "      <td>Abee</td>\n",
       "      <td>107000.0</td>\n",
       "    </tr>\n",
       "    <tr>\n",
       "      <th>1</th>\n",
       "      <td>Agen</td>\n",
       "      <td>30000.0</td>\n",
       "    </tr>\n",
       "    <tr>\n",
       "      <th>2</th>\n",
       "      <td>Aïr</td>\n",
       "      <td>24000.0</td>\n",
       "    </tr>\n",
       "    <tr>\n",
       "      <th>3</th>\n",
       "      <td>Akyumak</td>\n",
       "      <td>50000.0</td>\n",
       "    </tr>\n",
       "    <tr>\n",
       "      <th>4</th>\n",
       "      <td>Alfianello</td>\n",
       "      <td>228000.0</td>\n",
       "    </tr>\n",
       "    <tr>\n",
       "      <th>...</th>\n",
       "      <td>...</td>\n",
       "      <td>...</td>\n",
       "    </tr>\n",
       "    <tr>\n",
       "      <th>238</th>\n",
       "      <td>Tieschitz</td>\n",
       "      <td>28000.0</td>\n",
       "    </tr>\n",
       "    <tr>\n",
       "      <th>239</th>\n",
       "      <td>Tilden</td>\n",
       "      <td>74800.0</td>\n",
       "    </tr>\n",
       "    <tr>\n",
       "      <th>240</th>\n",
       "      <td>Timochin</td>\n",
       "      <td>65500.0</td>\n",
       "    </tr>\n",
       "    <tr>\n",
       "      <th>241</th>\n",
       "      <td>Tjabe</td>\n",
       "      <td>20000.0</td>\n",
       "    </tr>\n",
       "    <tr>\n",
       "      <th>242</th>\n",
       "      <td>Tjerebon</td>\n",
       "      <td>16500.0</td>\n",
       "    </tr>\n",
       "  </tbody>\n",
       "</table>\n",
       "<p>243 rows × 2 columns</p>\n",
       "</div>"
      ],
      "text/plain": [
       "           name      mass\n",
       "0          Abee  107000.0\n",
       "1          Agen   30000.0\n",
       "2           Aïr   24000.0\n",
       "3       Akyumak   50000.0\n",
       "4    Alfianello  228000.0\n",
       "..          ...       ...\n",
       "238   Tieschitz   28000.0\n",
       "239      Tilden   74800.0\n",
       "240    Timochin   65500.0\n",
       "241       Tjabe   20000.0\n",
       "242    Tjerebon   16500.0\n",
       "\n",
       "[243 rows x 2 columns]"
      ]
     },
     "execution_count": 49,
     "metadata": {},
     "output_type": "execute_result"
    }
   ],
   "source": [
    "temp3 = df[df['mass'] > 10000].reset_index(drop=True) [['name', 'mass']]\n",
    "temp3"
   ]
  },
  {
   "cell_type": "code",
   "execution_count": null,
   "id": "d1d81c06",
   "metadata": {},
   "outputs": [],
   "source": []
  }
 ],
 "metadata": {
  "kernelspec": {
   "display_name": "Python 3 (ipykernel)",
   "language": "python",
   "name": "python3"
  },
  "language_info": {
   "codemirror_mode": {
    "name": "ipython",
    "version": 3
   },
   "file_extension": ".py",
   "mimetype": "text/x-python",
   "name": "python",
   "nbconvert_exporter": "python",
   "pygments_lexer": "ipython3",
   "version": "3.9.12"
  }
 },
 "nbformat": 4,
 "nbformat_minor": 5
}
